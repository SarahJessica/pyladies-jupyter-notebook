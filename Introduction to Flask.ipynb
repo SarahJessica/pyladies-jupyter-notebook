{
 "cells": [
  {
   "cell_type": "markdown",
   "metadata": {},
   "source": [
    "# PyLadies Notes for Introduction to Flask"
   ]
  },
  {
   "cell_type": "markdown",
   "metadata": {},
   "source": [
    "## Setting Up Your Machine for Python Development"
   ]
  },
  {
   "cell_type": "markdown",
   "metadata": {},
   "source": [
    "### MacOSX \n",
    "\n",
    "#### Installing Python\n",
    "You are very likely to have a Python 2 installation shipped with your Mac. \n",
    "\n"
   ]
  },
  {
   "cell_type": "markdown",
   "metadata": {},
   "source": [
    "### Windows\n",
    "\n",
    "#### Installing Python\n"
   ]
  },
  {
   "cell_type": "markdown",
   "metadata": {},
   "source": [
    "## Introduction to Flask"
   ]
  },
  {
   "cell_type": "markdown",
   "metadata": {},
   "source": [
    "### Setting up Your Development Environment for Flask\n",
    "#### Install `virtualenv` and `virtualenvwrapper`\n",
    "\n",
    "#### Start a Project in a Development Environment\n",
    "- Make a project -\n",
    "    `mkproject flask`\n",
    "- Make an environment with virtualenv -  \n",
    "    `mkvirtualenv flask`\n",
    "- Go into that environment to work - \n",
    "    `workon flask`\n",
    "- Install Flask in that environment - \n",
    "    `pip install Flask`\n"
   ]
  },
  {
   "cell_type": "markdown",
   "metadata": {},
   "source": [
    "### Say \"Hi\" to the World with Flask\n",
    "#### Make a helloworld.py file\n",
    "\n",
    "`from flask import Flask`\n",
    "\n",
    "`app = Flask(__name__)`\n",
    "\n",
    "`@app.route('/index')`\n",
    "`def index():\n",
    "    return 'Hello, World!'`\n",
    "\n",
    "`if __name__ == \"__main__\":\n",
    "    app.run()`\n",
    "    \n",
    "1. the first line imports flask\n",
    "2. the second line calls the flask contstuctor and creates a global flask application object\n",
    "    - the argument to the constructor is the name of the main module or package of the application\n",
    "    - in most simple cases it is good to use `__name__`\n",
    "3. the route `/index` is made.\n",
    "    - it is a decorator for what follows\n",
    "    - it is an attribute of the app object\n",
    "    - tells the program that this should be sporned when the `/index` route is used\n",
    "4. a \"view function\" is called \"index\" which returns the string \"Hello, world!\"\n",
    "5. tells the program that if the name of the main module is called then this should start the application\n",
    "\n",
    "#### Run Your helloworld.py file\n",
    "- return to your command line application (if you have left it)\n",
    "- check that you are still in your flask development environment, especially if you have edited helloworld.py using an application (such as atom) that doesn't run in the commandline application. You can tell if you see `(flask)` at the beginning of the command prompt line. If you are not in the development environment, type `workon flask` to get back in.\n",
    "- go back into the terminal and type in `python helloworld.py` just like you would to run any other python file\n",
    "- you should get a message like `* Running on http://127.0.0.1:5000/ (Press CTRL+C to quit)`\n",
    "    - http://127.0.0.1:5000/ is the IP address for your *localhost*. \n",
    "    - the application (at least in this instance) is running on port 5000\n",
    "- copy and paste this address into your brower\n",
    "    - http://localhost:5000/ will also work\n",
    "- *OH NO!* It isn't found!! \n",
    "    - Don't worry, we haven't made a route for '/' only for '/index'\n",
    "    - so go to http://127.0.0.1:5000/index << what do you think it will say? >>\n",
    "\n",
    "#### Static Assets\n",
    "- you can also have a static directory inside your project to store your static assets, such as images that you might want to embed on your webpages. This is available with the route 'static' then the name of your asset e.g. `http://localhost:5000/static/logo.jpg`\n",
    "\n",
    "#### What have we learnt? \n",
    "\n",
    "1. We install flask by using `pip install Flask`\n",
    "2. We only need to create a single file (like our `helloworld.py`)\n",
    "3. Our simple program has the two things we need in every flask project\n",
    "    \n",
    "    i. The flask application object which we get by calling the flask constructor with the name of our current module \n",
    "        `app = Flask(__name__)`\n",
    "    ii. A view function\n",
    "        `@app.route('/index')`\n",
    "        `def index():\n",
    "            return 'Hello, World!'`\n",
    "    N.B. we could have called the `index()` function anything. It doesn't have to match the route name\n",
    "4. We can store our static assets in a static directory and access them using the `/static/` route."
   ]
  },
  {
   "cell_type": "markdown",
   "metadata": {},
   "source": [
    "### A Very Short Introduction to MVC \n"
   ]
  },
  {
   "cell_type": "code",
   "execution_count": null,
   "metadata": {
    "collapsed": true
   },
   "outputs": [],
   "source": []
  }
 ],
 "metadata": {
  "kernelspec": {
   "display_name": "Python 3",
   "language": "python",
   "name": "python3"
  },
  "language_info": {
   "codemirror_mode": {
    "name": "ipython",
    "version": 3
   },
   "file_extension": ".py",
   "mimetype": "text/x-python",
   "name": "python",
   "nbconvert_exporter": "python",
   "pygments_lexer": "ipython3",
   "version": "3.5.2"
  }
 },
 "nbformat": 4,
 "nbformat_minor": 1
}
