{
 "cells": [
  {
   "cell_type": "markdown",
   "metadata": {},
   "source": [
    "# PyLadies Notes for Introduction to Flask"
   ]
  },
  {
   "cell_type": "markdown",
   "metadata": {},
   "source": [
    "## Setting Up Your Machine for Python Development"
   ]
  },
  {
   "cell_type": "markdown",
   "metadata": {},
   "source": [
    "### MacOSX \n",
    "\n",
    "#### Installing Python\n",
    "You are very likely to have a Python 2 installation shipped with your Mac. \n",
    "\n"
   ]
  },
  {
   "cell_type": "markdown",
   "metadata": {},
   "source": [
    "### Windows\n",
    "\n",
    "#### Installing Python\n"
   ]
  },
  {
   "cell_type": "markdown",
   "metadata": {},
   "source": [
    "## Introduction to Flask"
   ]
  },
  {
   "cell_type": "markdown",
   "metadata": {},
   "source": [
    "### Setting up Your Development Environment for Flask\n",
    "#### Install `virtualenv` and `virtualenvwrapper`\n",
    "\n",
    "#### Start a Project in a Development Environment\n",
    "- Make a project -\n",
    "    `mkproject flask`\n",
    "- Make an environment with virtualenv -  \n",
    "    `mkvirtualenv flask`\n",
    "- Go into that environment to work - \n",
    "    `workon flask`\n",
    "- Install Flask in that environment - \n",
    "    `pip install Flask`\n"
   ]
  },
  {
   "cell_type": "markdown",
   "metadata": {},
   "source": [
    "### Say \"Hi\" to the World with Flask\n",
    "#### Make a helloworld.py file\n",
    "\n",
    "`from flask import Flask`\n",
    "\n",
    "`app = Flask(__name__)`\n",
    "\n",
    "`@app.route('/index')`\n",
    "`def index():\n",
    "    return 'Hello, World!'`\n",
    "\n",
    "`if __name__ == \"__main__\":\n",
    "    app.run()`\n",
    "    \n",
    "1. the first line imports flask\n",
    "2. the second line calls the flask contstuctor and creates a global flask application object\n",
    "    - the argument to the constructor is the name of the main module or package of the application\n",
    "    - in most simple cases it is good to use `__name__`\n",
    "3. the route `/index` is made.\n",
    "    - it is a decorator for what follows\n",
    "    - it is an attribute of the app object\n",
    "    - tells the program that this should be sporned when the `/index` route is used\n",
    "4. a \"view function\" is called \"index\" which returns the string \"Hello, world!\"\n",
    "5. tells the program that if the name of the main module is called then this should start the application\n",
    "\n",
    "#### Run Your helloworld.py file\n",
    "- return to your command line application (if you have left it)\n",
    "- check that you are still in your flask development environment, especially if you have edited helloworld.py using an application (such as atom) that doesn't run in the commandline application. You can tell if you see `(flask)` at the beginning of the command prompt line. If you are not in the development environment, type `workon flask` to get back in.\n",
    "- go back into the terminal and type in `python helloworld.py` just like you would to run any other python file\n",
    "- you should get a message like `* Running on http://127.0.0.1:5000/ (Press CTRL+C to quit)`\n",
    "    - http://127.0.0.1:5000/ is the IP address for your *localhost*. \n",
    "    - the application (at least in this instance) is running on port 5000\n",
    "- copy and paste this address into your brower\n",
    "    - http://localhost:5000/ will also work\n",
    "- *OH NO!* It isn't found!! \n",
    "    - Don't worry, we haven't made a route for '/' only for '/index'\n",
    "    - so go to http://127.0.0.1:5000/index *What do you think it will say? Think about it before you have a look*\n",
    "\n",
    "#### Static Assets\n",
    "- you can also have a static directory inside your project to store your static assets, such as images that you might want to embed on your webpages. This is available with the route 'static' then the name of your asset e.g. `http://localhost:5000/static/logo.jpg`\n",
    "\n",
    "#### What have we learnt? \n",
    "\n",
    "1. We install flask by using `pip install Flask`\n",
    "2. We only need to create a single file (like our `helloworld.py`)\n",
    "3. Our simple program has the two things we need in every flask project\n",
    "    \n",
    "    i. The flask application object which we get by calling the flask constructor with the name of our current module \n",
    "        `app = Flask(__name__)`\n",
    "    ii. A view function\n",
    "        `@app.route('/index')`\n",
    "        `def index():\n",
    "            return 'Hello, World!'`\n",
    "    N.B. we could have called the `index()` function anything. It doesn't have to match the route name\n",
    "4. We can store our static assets in a static directory and access them using the `/static/` route."
   ]
  },
  {
   "cell_type": "markdown",
   "metadata": {},
   "source": [
    "### A Very Short Introduction to MVC (and Flask)\n",
    "\n",
    "#### MVC VS Model Template View\n",
    "- If you're familiar with the MVC -- model view controller pattern -- you'll notice that _model template view_ and _model view controller_ are basically the same pattern but described with different jargon. So it doesn't really matter which ones you choose. We'll use Model Template View because it seems to be convention with flask. \n",
    "\n",
    "- Flask is built on two main components\n",
    "    i.  the Jinja 2 template engine for building HTML\n",
    "    ii. Werkzeug (a German word that means something like a tool). This provides the HTTP support and thus the routing that maps URLs to Python functions. \n",
    "- If you're familiar with the model view controller pattern, you'll notice that our views and controllers are covered with these two components. \n",
    "    i.  Something to render HTML (view layer) \n",
    "    ii. Functions to prepare the data into logic, which we may call the controllers. \n",
    "\n",
    "#### Model Template View\n",
    "- With flask, we call this pattern by a different name: model template view. \n",
    "- Flask does not provide an out-of-the-box model. Many developers see this as an advantage because it means they can chose whatever kind of persistence layer that they like (it is usually a kind of database). anything for this, and that's actually a nice thing. Because with Flask you can choose any kind of precisions technology you like. So that might be SQL light or a no SQL database or more traditional approaches like MySQL or Postgres. \n",
    "\n",
    "##### Models\n",
    "Are software components that hold persistence data. Often, these objects will represent routes of data in table in a database. Flask doesn't include any specific library for writing these components.\n",
    "##### Templates (or views in MVC)\n",
    "Are the components we will use to actually generate the HTML output for our webpages. \n",
    "##### Views (or controllers in MVC)\n",
    "Are software components that generate the response to a specific web request: they will be react to requests for specific URLs. They may do a lot of other things as well, commonly, retrieve data from a model and use a template to generate HTML."
   ]
  },
  {
   "cell_type": "markdown",
   "metadata": {
    "collapsed": true
   },
   "source": [
    "## Basic Views\n",
    "Now we have greeted the World, here's your chance to think of a simple webapp you would like to create and make a start on it. \n",
    "\n",
    "To make something bigger than a \"Hello, World!\" webapp, like a blog site, we would need to retrieve some data, such as the latest blog posts. The view function would retrieve data from the model (though, it may also store the data in a database using the model). The view function will need to apply some logic on the data and then we'll want to generate a pretty HTML page containing that data. Instead of writing a load of Python code inside the function that generates the HTML, we can call a template component that will generate beautiful HTML pages in a user-friendly way. Finally, with the HTML generated, the view function will return a response object to the browser for the world to see!\n",
    "\n",
    "### New Project Structure\n",
    "*How do you think a simple(ish) webapp should be structured? Have a go at drawing your site architecture yourself before looking at my suggested project structure below*\n",
    "\n",
    "DIRECTORY CONTAINING THE PROJECT\n",
    "\n",
    "| `__init__.py` (empty but necessary for the app to be valid)\n",
    "\n",
    "| STATIC DIRECTORY\n",
    "\n",
    "| | CSS\n",
    "\n",
    "| | IMAGES\n",
    "\n",
    "| | JS\n",
    "\n",
    "| TEMPLATES DIRECTORY\n",
    "\n",
    "| | template logic\n",
    "\n",
    "| `mainapp.py`\n",
    "\n",
    "\n",
    "### New Project SetUp\n",
    "*Can you do the inital set up of a new flask project without having to look at these notes? Have a go!*\n",
    "\n",
    "1. `mkproject webapp` (remember you can't do this on Windows). Check that you're in the virtual env. \n",
    "2. `pip install flask`\n",
    "\n",
    "### HTML like it's 1999!\n",
    "Let's start with making a basic html index page and putting it in the `templates` folder. You can put your CSS, images and any JavaScript in your `static` directory and make sure your links to these point to the right place from the `templates` directory. Now, how do we serve it? \n",
    "\n",
    "### Serving Static Pages\n",
    "\n",
    "- rather than duplicate work, let's copy our helloworld.py and call it mainapp.py (or the name of the site you want to make). \n",
    "- include the `render_template` import. After all, we want to render templates!!\n",
    "`from flask import Flask, render_template`\n",
    "- let's fix our existing bug and not give visitors a shock by duplicating the `/index` decorator and changing it to `/` so that both will work. \n",
    "- instead of the page telling us, \"Hello, World!\" we want it to show our template. \n",
    "_Where do you think you would change the logic to do this?_\n",
    "- you're smart, so you probably guessed that we need to replace `return 'Hello, World!'`\n",
    "- let's render our template by putting in `render_template('index.html')` and try to run the app. \n",
    "- _OH NO!_ we get a 500 internal server error! There must be something wrong with our code (that I intentionally included :P) so we will need to debug!\n",
    "- we go into depub mode by adding the argument `debug=True` into our `app.run()` method. So that's, `app.run(debug=True)`. Then run the app again. \n",
    "_Based on what the error message says, can you work out what is wrong with our code?_\n",
    "- We missed out the `return` statement. We should `return render_template('index.html')`\n",
    "- Run the app again. It is up to you whether you want to stay in debug mode or not.\n",
    "\n",
    "#### What have we learnt?\n",
    "1. The flask application needs an application object that is created using the `Flask` constructor `app = Flask(__name__)` and we use this to run the application globally\n",
    "2. To run the application we use `app.run()`\n",
    "    \n",
    "    i. here we can enter debug mode by setting the debug argument to true `app.run(debug=True)`\n",
    "3. Flask expects a certain directory structure by default\n",
    "    \n",
    "    i. templates to be kept in a `templates` directory\n",
    "    \n",
    "    ii. static files to be kept in a `static` directory\n",
    "4. We can use templates from a view method to generate HTML `render_template('template_name')`"
   ]
  },
  {
   "cell_type": "markdown",
   "metadata": {
    "collapsed": true
   },
   "source": [
    "## Basic Templates \n",
    "### A Very Short Introduction to Jinja2\n",
    "- flask ships with Jinja2. \n",
    "- Jinja2 can generate any kind of text-based file format, not just HTML, but we're interested in HTML right now. \n",
    "- Jinja2 is a templating engine and is used by including 'mustache marks', {{ and }}, where you would like your generated text to be inserted, much like other templating engines do. \n",
    "\n",
    "- Let's add some 'mustache marks' such as `{{blog_title}}` and `{{blog_post}}` to the HTML template and run it. \n",
    "- _OH NO!_ it doesn't work. _Why do you think that is? _\n",
    "- We haven't added any lodgic to our Python file to serve up what should go into our placeholders.\n",
    "- We can do this by adding in more arguments into the `render_template` method after the name of the template to be served, such as `render_template('index.html', blog_title=\"My Blog Title\", blog_post=\"This is a really short blog post!\")`\n",
    "- You can even pass in a list and then reference which item in the list you would like to display in the normal way. e.g. `return render_template('index.html', blog_title=\"This is a Title\",\n",
    "    blog_post=[\"This is a really short post!\", \"Another short one.\", \"And another!!\"])` \n",
    "    _so, if I want to reference reference \"Another short one\" on this list, what would I type? Have a go yourself._ \n",
    "    \n",
    "    `{{blog_post[1]}}` to get \"Another short one\" because Python Lists start at index 0.\n",
    "- What if we wanted to add the author's name? One way we could do this would be by making an Author class with firstname and surname attributes, and then making an instance of this for each author then referring to their names. \n",
    "- Let's make the constructor:\n",
    "\n",
    "`class Author:`\n",
    "\n",
    "    `def __init__(self, firstname, surname):`\n",
    "    \n",
    "        `self.firstname = firstname`\n",
    "        \n",
    "        `self.surname = surname`\n",
    " "
   ]
  }
 ],
 "metadata": {
  "kernelspec": {
   "display_name": "Python 2",
   "language": "python",
   "name": "python2"
  },
  "language_info": {
   "codemirror_mode": {
    "name": "ipython",
    "version": 2
   },
   "file_extension": ".py",
   "mimetype": "text/x-python",
   "name": "python",
   "nbconvert_exporter": "python",
   "pygments_lexer": "ipython2",
   "version": "2.7.10"
  }
 },
 "nbformat": 4,
 "nbformat_minor": 1
}
